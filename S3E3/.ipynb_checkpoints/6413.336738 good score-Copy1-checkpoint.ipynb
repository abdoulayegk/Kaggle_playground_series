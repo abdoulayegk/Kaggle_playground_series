{
 "cells": [
  {
   "cell_type": "code",
   "execution_count": 1,
   "id": "3fa2086c-3c79-4629-96a1-a4d2c8a3d9bd",
   "metadata": {},
   "outputs": [
    {
     "name": "stderr",
     "output_type": "stream",
     "text": [
      "/home/balde/miniconda3/lib/python3.9/site-packages/xgboost/compat.py:36: FutureWarning: pandas.Int64Index is deprecated and will be removed from pandas in a future version. Use pandas.Index with the appropriate dtype instead.\n",
      "  from pandas import MultiIndex, Int64Index\n"
     ]
    }
   ],
   "source": [
    "# libraries\n",
    "import os\n",
    "import time\n",
    "\n",
    "import lightgbm as lgb\n",
    "import matplotlib.pyplot as plt\n",
    "import numpy as np\n",
    "import pandas as pd\n",
    "\n",
    "%matplotlib inline\n",
    "import seaborn as sns\n",
    "import sklearn\n",
    "from catboost import CatBoostRegressor\n",
    "from lightgbm import LGBMRegressor\n",
    "from sklearn import metrics\n",
    "from sklearn.cluster import KMeans\n",
    "from sklearn.metrics import mean_squared_error\n",
    "from sklearn.model_selection import (\n",
    "    GroupKFold,\n",
    "    KFold,\n",
    "    RepeatedKFold,\n",
    "    ShuffleSplit,\n",
    "    StratifiedShuffleSplit,\n",
    "    TimeSeriesSplit,\n",
    ")\n",
    "from xgboost import XGBRegressor\n",
    "\n",
    "# Set the maximum number of columns to display\n",
    "pd.set_option(\"display.max_columns\", 30)"
   ]
  },
  {
   "cell_type": "code",
   "execution_count": 2,
   "id": "daa0165c-ae5c-4a98-aeba-316cc7aa22ee",
   "metadata": {},
   "outputs": [
    {
     "ename": "FileNotFoundError",
     "evalue": "[Errno 2] No such file or directory: 'Train.csv'",
     "output_type": "error",
     "traceback": [
      "\u001b[0;31m---------------------------------------------------------------------------\u001b[0m",
      "\u001b[0;31mFileNotFoundError\u001b[0m                         Traceback (most recent call last)",
      "Cell \u001b[0;32mIn [2], line 1\u001b[0m\n\u001b[0;32m----> 1\u001b[0m train \u001b[38;5;241m=\u001b[39m \u001b[43mpd\u001b[49m\u001b[38;5;241;43m.\u001b[39;49m\u001b[43mread_csv\u001b[49m\u001b[43m(\u001b[49m\u001b[38;5;124;43m\"\u001b[39;49m\u001b[38;5;124;43mTrain.csv\u001b[39;49m\u001b[38;5;124;43m\"\u001b[39;49m\u001b[43m)\u001b[49m\n\u001b[1;32m      2\u001b[0m test \u001b[38;5;241m=\u001b[39m pd\u001b[38;5;241m.\u001b[39mread_csv(\u001b[38;5;124m\"\u001b[39m\u001b[38;5;124mTest.csv\u001b[39m\u001b[38;5;124m\"\u001b[39m)\n\u001b[1;32m      3\u001b[0m emp \u001b[38;5;241m=\u001b[39m pd\u001b[38;5;241m.\u001b[39mread_csv(\u001b[38;5;124m\"\u001b[39m\u001b[38;5;124memployment_status.csv\u001b[39m\u001b[38;5;124m\"\u001b[39m)\n",
      "File \u001b[0;32m~/miniconda3/lib/python3.9/site-packages/pandas/util/_decorators.py:311\u001b[0m, in \u001b[0;36mdeprecate_nonkeyword_arguments.<locals>.decorate.<locals>.wrapper\u001b[0;34m(*args, **kwargs)\u001b[0m\n\u001b[1;32m    305\u001b[0m \u001b[38;5;28;01mif\u001b[39;00m \u001b[38;5;28mlen\u001b[39m(args) \u001b[38;5;241m>\u001b[39m num_allow_args:\n\u001b[1;32m    306\u001b[0m     warnings\u001b[38;5;241m.\u001b[39mwarn(\n\u001b[1;32m    307\u001b[0m         msg\u001b[38;5;241m.\u001b[39mformat(arguments\u001b[38;5;241m=\u001b[39marguments),\n\u001b[1;32m    308\u001b[0m         \u001b[38;5;167;01mFutureWarning\u001b[39;00m,\n\u001b[1;32m    309\u001b[0m         stacklevel\u001b[38;5;241m=\u001b[39mstacklevel,\n\u001b[1;32m    310\u001b[0m     )\n\u001b[0;32m--> 311\u001b[0m \u001b[38;5;28;01mreturn\u001b[39;00m \u001b[43mfunc\u001b[49m\u001b[43m(\u001b[49m\u001b[38;5;241;43m*\u001b[39;49m\u001b[43margs\u001b[49m\u001b[43m,\u001b[49m\u001b[43m \u001b[49m\u001b[38;5;241;43m*\u001b[39;49m\u001b[38;5;241;43m*\u001b[39;49m\u001b[43mkwargs\u001b[49m\u001b[43m)\u001b[49m\n",
      "File \u001b[0;32m~/miniconda3/lib/python3.9/site-packages/pandas/io/parsers/readers.py:678\u001b[0m, in \u001b[0;36mread_csv\u001b[0;34m(filepath_or_buffer, sep, delimiter, header, names, index_col, usecols, squeeze, prefix, mangle_dupe_cols, dtype, engine, converters, true_values, false_values, skipinitialspace, skiprows, skipfooter, nrows, na_values, keep_default_na, na_filter, verbose, skip_blank_lines, parse_dates, infer_datetime_format, keep_date_col, date_parser, dayfirst, cache_dates, iterator, chunksize, compression, thousands, decimal, lineterminator, quotechar, quoting, doublequote, escapechar, comment, encoding, encoding_errors, dialect, error_bad_lines, warn_bad_lines, on_bad_lines, delim_whitespace, low_memory, memory_map, float_precision, storage_options)\u001b[0m\n\u001b[1;32m    663\u001b[0m kwds_defaults \u001b[38;5;241m=\u001b[39m _refine_defaults_read(\n\u001b[1;32m    664\u001b[0m     dialect,\n\u001b[1;32m    665\u001b[0m     delimiter,\n\u001b[0;32m   (...)\u001b[0m\n\u001b[1;32m    674\u001b[0m     defaults\u001b[38;5;241m=\u001b[39m{\u001b[38;5;124m\"\u001b[39m\u001b[38;5;124mdelimiter\u001b[39m\u001b[38;5;124m\"\u001b[39m: \u001b[38;5;124m\"\u001b[39m\u001b[38;5;124m,\u001b[39m\u001b[38;5;124m\"\u001b[39m},\n\u001b[1;32m    675\u001b[0m )\n\u001b[1;32m    676\u001b[0m kwds\u001b[38;5;241m.\u001b[39mupdate(kwds_defaults)\n\u001b[0;32m--> 678\u001b[0m \u001b[38;5;28;01mreturn\u001b[39;00m \u001b[43m_read\u001b[49m\u001b[43m(\u001b[49m\u001b[43mfilepath_or_buffer\u001b[49m\u001b[43m,\u001b[49m\u001b[43m \u001b[49m\u001b[43mkwds\u001b[49m\u001b[43m)\u001b[49m\n",
      "File \u001b[0;32m~/miniconda3/lib/python3.9/site-packages/pandas/io/parsers/readers.py:575\u001b[0m, in \u001b[0;36m_read\u001b[0;34m(filepath_or_buffer, kwds)\u001b[0m\n\u001b[1;32m    572\u001b[0m _validate_names(kwds\u001b[38;5;241m.\u001b[39mget(\u001b[38;5;124m\"\u001b[39m\u001b[38;5;124mnames\u001b[39m\u001b[38;5;124m\"\u001b[39m, \u001b[38;5;28;01mNone\u001b[39;00m))\n\u001b[1;32m    574\u001b[0m \u001b[38;5;66;03m# Create the parser.\u001b[39;00m\n\u001b[0;32m--> 575\u001b[0m parser \u001b[38;5;241m=\u001b[39m \u001b[43mTextFileReader\u001b[49m\u001b[43m(\u001b[49m\u001b[43mfilepath_or_buffer\u001b[49m\u001b[43m,\u001b[49m\u001b[43m \u001b[49m\u001b[38;5;241;43m*\u001b[39;49m\u001b[38;5;241;43m*\u001b[39;49m\u001b[43mkwds\u001b[49m\u001b[43m)\u001b[49m\n\u001b[1;32m    577\u001b[0m \u001b[38;5;28;01mif\u001b[39;00m chunksize \u001b[38;5;129;01mor\u001b[39;00m iterator:\n\u001b[1;32m    578\u001b[0m     \u001b[38;5;28;01mreturn\u001b[39;00m parser\n",
      "File \u001b[0;32m~/miniconda3/lib/python3.9/site-packages/pandas/io/parsers/readers.py:932\u001b[0m, in \u001b[0;36mTextFileReader.__init__\u001b[0;34m(self, f, engine, **kwds)\u001b[0m\n\u001b[1;32m    929\u001b[0m     \u001b[38;5;28mself\u001b[39m\u001b[38;5;241m.\u001b[39moptions[\u001b[38;5;124m\"\u001b[39m\u001b[38;5;124mhas_index_names\u001b[39m\u001b[38;5;124m\"\u001b[39m] \u001b[38;5;241m=\u001b[39m kwds[\u001b[38;5;124m\"\u001b[39m\u001b[38;5;124mhas_index_names\u001b[39m\u001b[38;5;124m\"\u001b[39m]\n\u001b[1;32m    931\u001b[0m \u001b[38;5;28mself\u001b[39m\u001b[38;5;241m.\u001b[39mhandles: IOHandles \u001b[38;5;241m|\u001b[39m \u001b[38;5;28;01mNone\u001b[39;00m \u001b[38;5;241m=\u001b[39m \u001b[38;5;28;01mNone\u001b[39;00m\n\u001b[0;32m--> 932\u001b[0m \u001b[38;5;28mself\u001b[39m\u001b[38;5;241m.\u001b[39m_engine \u001b[38;5;241m=\u001b[39m \u001b[38;5;28;43mself\u001b[39;49m\u001b[38;5;241;43m.\u001b[39;49m\u001b[43m_make_engine\u001b[49m\u001b[43m(\u001b[49m\u001b[43mf\u001b[49m\u001b[43m,\u001b[49m\u001b[43m \u001b[49m\u001b[38;5;28;43mself\u001b[39;49m\u001b[38;5;241;43m.\u001b[39;49m\u001b[43mengine\u001b[49m\u001b[43m)\u001b[49m\n",
      "File \u001b[0;32m~/miniconda3/lib/python3.9/site-packages/pandas/io/parsers/readers.py:1216\u001b[0m, in \u001b[0;36mTextFileReader._make_engine\u001b[0;34m(self, f, engine)\u001b[0m\n\u001b[1;32m   1212\u001b[0m     mode \u001b[38;5;241m=\u001b[39m \u001b[38;5;124m\"\u001b[39m\u001b[38;5;124mrb\u001b[39m\u001b[38;5;124m\"\u001b[39m\n\u001b[1;32m   1213\u001b[0m \u001b[38;5;66;03m# error: No overload variant of \"get_handle\" matches argument types\u001b[39;00m\n\u001b[1;32m   1214\u001b[0m \u001b[38;5;66;03m# \"Union[str, PathLike[str], ReadCsvBuffer[bytes], ReadCsvBuffer[str]]\"\u001b[39;00m\n\u001b[1;32m   1215\u001b[0m \u001b[38;5;66;03m# , \"str\", \"bool\", \"Any\", \"Any\", \"Any\", \"Any\", \"Any\"\u001b[39;00m\n\u001b[0;32m-> 1216\u001b[0m \u001b[38;5;28mself\u001b[39m\u001b[38;5;241m.\u001b[39mhandles \u001b[38;5;241m=\u001b[39m \u001b[43mget_handle\u001b[49m\u001b[43m(\u001b[49m\u001b[43m  \u001b[49m\u001b[38;5;66;43;03m# type: ignore[call-overload]\u001b[39;49;00m\n\u001b[1;32m   1217\u001b[0m \u001b[43m    \u001b[49m\u001b[43mf\u001b[49m\u001b[43m,\u001b[49m\n\u001b[1;32m   1218\u001b[0m \u001b[43m    \u001b[49m\u001b[43mmode\u001b[49m\u001b[43m,\u001b[49m\n\u001b[1;32m   1219\u001b[0m \u001b[43m    \u001b[49m\u001b[43mencoding\u001b[49m\u001b[38;5;241;43m=\u001b[39;49m\u001b[38;5;28;43mself\u001b[39;49m\u001b[38;5;241;43m.\u001b[39;49m\u001b[43moptions\u001b[49m\u001b[38;5;241;43m.\u001b[39;49m\u001b[43mget\u001b[49m\u001b[43m(\u001b[49m\u001b[38;5;124;43m\"\u001b[39;49m\u001b[38;5;124;43mencoding\u001b[39;49m\u001b[38;5;124;43m\"\u001b[39;49m\u001b[43m,\u001b[49m\u001b[43m \u001b[49m\u001b[38;5;28;43;01mNone\u001b[39;49;00m\u001b[43m)\u001b[49m\u001b[43m,\u001b[49m\n\u001b[1;32m   1220\u001b[0m \u001b[43m    \u001b[49m\u001b[43mcompression\u001b[49m\u001b[38;5;241;43m=\u001b[39;49m\u001b[38;5;28;43mself\u001b[39;49m\u001b[38;5;241;43m.\u001b[39;49m\u001b[43moptions\u001b[49m\u001b[38;5;241;43m.\u001b[39;49m\u001b[43mget\u001b[49m\u001b[43m(\u001b[49m\u001b[38;5;124;43m\"\u001b[39;49m\u001b[38;5;124;43mcompression\u001b[39;49m\u001b[38;5;124;43m\"\u001b[39;49m\u001b[43m,\u001b[49m\u001b[43m \u001b[49m\u001b[38;5;28;43;01mNone\u001b[39;49;00m\u001b[43m)\u001b[49m\u001b[43m,\u001b[49m\n\u001b[1;32m   1221\u001b[0m \u001b[43m    \u001b[49m\u001b[43mmemory_map\u001b[49m\u001b[38;5;241;43m=\u001b[39;49m\u001b[38;5;28;43mself\u001b[39;49m\u001b[38;5;241;43m.\u001b[39;49m\u001b[43moptions\u001b[49m\u001b[38;5;241;43m.\u001b[39;49m\u001b[43mget\u001b[49m\u001b[43m(\u001b[49m\u001b[38;5;124;43m\"\u001b[39;49m\u001b[38;5;124;43mmemory_map\u001b[39;49m\u001b[38;5;124;43m\"\u001b[39;49m\u001b[43m,\u001b[49m\u001b[43m \u001b[49m\u001b[38;5;28;43;01mFalse\u001b[39;49;00m\u001b[43m)\u001b[49m\u001b[43m,\u001b[49m\n\u001b[1;32m   1222\u001b[0m \u001b[43m    \u001b[49m\u001b[43mis_text\u001b[49m\u001b[38;5;241;43m=\u001b[39;49m\u001b[43mis_text\u001b[49m\u001b[43m,\u001b[49m\n\u001b[1;32m   1223\u001b[0m \u001b[43m    \u001b[49m\u001b[43merrors\u001b[49m\u001b[38;5;241;43m=\u001b[39;49m\u001b[38;5;28;43mself\u001b[39;49m\u001b[38;5;241;43m.\u001b[39;49m\u001b[43moptions\u001b[49m\u001b[38;5;241;43m.\u001b[39;49m\u001b[43mget\u001b[49m\u001b[43m(\u001b[49m\u001b[38;5;124;43m\"\u001b[39;49m\u001b[38;5;124;43mencoding_errors\u001b[39;49m\u001b[38;5;124;43m\"\u001b[39;49m\u001b[43m,\u001b[49m\u001b[43m \u001b[49m\u001b[38;5;124;43m\"\u001b[39;49m\u001b[38;5;124;43mstrict\u001b[39;49m\u001b[38;5;124;43m\"\u001b[39;49m\u001b[43m)\u001b[49m\u001b[43m,\u001b[49m\n\u001b[1;32m   1224\u001b[0m \u001b[43m    \u001b[49m\u001b[43mstorage_options\u001b[49m\u001b[38;5;241;43m=\u001b[39;49m\u001b[38;5;28;43mself\u001b[39;49m\u001b[38;5;241;43m.\u001b[39;49m\u001b[43moptions\u001b[49m\u001b[38;5;241;43m.\u001b[39;49m\u001b[43mget\u001b[49m\u001b[43m(\u001b[49m\u001b[38;5;124;43m\"\u001b[39;49m\u001b[38;5;124;43mstorage_options\u001b[39;49m\u001b[38;5;124;43m\"\u001b[39;49m\u001b[43m,\u001b[49m\u001b[43m \u001b[49m\u001b[38;5;28;43;01mNone\u001b[39;49;00m\u001b[43m)\u001b[49m\u001b[43m,\u001b[49m\n\u001b[1;32m   1225\u001b[0m \u001b[43m\u001b[49m\u001b[43m)\u001b[49m\n\u001b[1;32m   1226\u001b[0m \u001b[38;5;28;01massert\u001b[39;00m \u001b[38;5;28mself\u001b[39m\u001b[38;5;241m.\u001b[39mhandles \u001b[38;5;129;01mis\u001b[39;00m \u001b[38;5;129;01mnot\u001b[39;00m \u001b[38;5;28;01mNone\u001b[39;00m\n\u001b[1;32m   1227\u001b[0m f \u001b[38;5;241m=\u001b[39m \u001b[38;5;28mself\u001b[39m\u001b[38;5;241m.\u001b[39mhandles\u001b[38;5;241m.\u001b[39mhandle\n",
      "File \u001b[0;32m~/miniconda3/lib/python3.9/site-packages/pandas/io/common.py:786\u001b[0m, in \u001b[0;36mget_handle\u001b[0;34m(path_or_buf, mode, encoding, compression, memory_map, is_text, errors, storage_options)\u001b[0m\n\u001b[1;32m    781\u001b[0m \u001b[38;5;28;01melif\u001b[39;00m \u001b[38;5;28misinstance\u001b[39m(handle, \u001b[38;5;28mstr\u001b[39m):\n\u001b[1;32m    782\u001b[0m     \u001b[38;5;66;03m# Check whether the filename is to be opened in binary mode.\u001b[39;00m\n\u001b[1;32m    783\u001b[0m     \u001b[38;5;66;03m# Binary mode does not support 'encoding' and 'newline'.\u001b[39;00m\n\u001b[1;32m    784\u001b[0m     \u001b[38;5;28;01mif\u001b[39;00m ioargs\u001b[38;5;241m.\u001b[39mencoding \u001b[38;5;129;01mand\u001b[39;00m \u001b[38;5;124m\"\u001b[39m\u001b[38;5;124mb\u001b[39m\u001b[38;5;124m\"\u001b[39m \u001b[38;5;129;01mnot\u001b[39;00m \u001b[38;5;129;01min\u001b[39;00m ioargs\u001b[38;5;241m.\u001b[39mmode:\n\u001b[1;32m    785\u001b[0m         \u001b[38;5;66;03m# Encoding\u001b[39;00m\n\u001b[0;32m--> 786\u001b[0m         handle \u001b[38;5;241m=\u001b[39m \u001b[38;5;28;43mopen\u001b[39;49m\u001b[43m(\u001b[49m\n\u001b[1;32m    787\u001b[0m \u001b[43m            \u001b[49m\u001b[43mhandle\u001b[49m\u001b[43m,\u001b[49m\n\u001b[1;32m    788\u001b[0m \u001b[43m            \u001b[49m\u001b[43mioargs\u001b[49m\u001b[38;5;241;43m.\u001b[39;49m\u001b[43mmode\u001b[49m\u001b[43m,\u001b[49m\n\u001b[1;32m    789\u001b[0m \u001b[43m            \u001b[49m\u001b[43mencoding\u001b[49m\u001b[38;5;241;43m=\u001b[39;49m\u001b[43mioargs\u001b[49m\u001b[38;5;241;43m.\u001b[39;49m\u001b[43mencoding\u001b[49m\u001b[43m,\u001b[49m\n\u001b[1;32m    790\u001b[0m \u001b[43m            \u001b[49m\u001b[43merrors\u001b[49m\u001b[38;5;241;43m=\u001b[39;49m\u001b[43merrors\u001b[49m\u001b[43m,\u001b[49m\n\u001b[1;32m    791\u001b[0m \u001b[43m            \u001b[49m\u001b[43mnewline\u001b[49m\u001b[38;5;241;43m=\u001b[39;49m\u001b[38;5;124;43m\"\u001b[39;49m\u001b[38;5;124;43m\"\u001b[39;49m\u001b[43m,\u001b[49m\n\u001b[1;32m    792\u001b[0m \u001b[43m        \u001b[49m\u001b[43m)\u001b[49m\n\u001b[1;32m    793\u001b[0m     \u001b[38;5;28;01melse\u001b[39;00m:\n\u001b[1;32m    794\u001b[0m         \u001b[38;5;66;03m# Binary mode\u001b[39;00m\n\u001b[1;32m    795\u001b[0m         handle \u001b[38;5;241m=\u001b[39m \u001b[38;5;28mopen\u001b[39m(handle, ioargs\u001b[38;5;241m.\u001b[39mmode)\n",
      "\u001b[0;31mFileNotFoundError\u001b[0m: [Errno 2] No such file or directory: 'Train.csv'"
     ]
    }
   ],
   "source": [
    "train = pd.read_csv(\"Train.csv\")\n",
    "test = pd.read_csv(\"Test.csv\")\n",
    "emp = pd.read_csv(\"employment_status.csv\")\n",
    "ss = pd.read_csv(\"SampleSubmission.csv\")\n",
    "income = pd.read_csv(\"income_group.csv\")\n",
    "custom = pd.read_csv(\"customer.csv\")\n",
    "transaction = pd.read_csv(\"transactions.csv\")"
   ]
  },
  {
   "cell_type": "code",
   "execution_count": null,
   "id": "51212b0f-5921-4ac0-963e-b04b8e4a6732",
   "metadata": {},
   "outputs": [],
   "source": [
    "train.head()"
   ]
  },
  {
   "cell_type": "code",
   "execution_count": null,
   "id": "27a3df3d-9799-424a-bf4e-128e3d1da61d",
   "metadata": {},
   "outputs": [],
   "source": [
    "test.head()"
   ]
  },
  {
   "cell_type": "code",
   "execution_count": null,
   "id": "e217eee2-fbe6-4843-a921-c5b8f8c67c5a",
   "metadata": {},
   "outputs": [],
   "source": [
    "transaction.head()"
   ]
  },
  {
   "cell_type": "code",
   "execution_count": null,
   "id": "bb70a43e-8b48-4b36-9be9-ec2ee2b11198",
   "metadata": {},
   "outputs": [],
   "source": [
    "transaction.shape, train.shape"
   ]
  },
  {
   "cell_type": "code",
   "execution_count": null,
   "id": "f0b3f69f-2fe0-4b01-8259-6996fccb234d",
   "metadata": {},
   "outputs": [],
   "source": [
    "income.head()"
   ]
  },
  {
   "cell_type": "code",
   "execution_count": null,
   "id": "540c98a7-6384-491c-95e9-9f71e7a3036f",
   "metadata": {},
   "outputs": [],
   "source": [
    "income.shape"
   ]
  },
  {
   "cell_type": "code",
   "execution_count": null,
   "id": "3c012241-ac1c-4b49-86ed-34d8b3d9fb97",
   "metadata": {},
   "outputs": [],
   "source": []
  },
  {
   "cell_type": "code",
   "execution_count": null,
   "id": "24c71d35-9a9f-4b7d-ae23-a6d1b5251273",
   "metadata": {},
   "outputs": [],
   "source": [
    "test.head()"
   ]
  },
  {
   "cell_type": "markdown",
   "id": "4d65d669-d66e-409b-a1e6-4fb4fd42d708",
   "metadata": {
    "tags": []
   },
   "source": [
    "## Here we are going to combine train and test set to better proprocess it.\n",
    "\n",
    "here are few thing to keep in Mind:\n",
    "    1. Data leakage is something that occurs when we concatinate train and test while separatin them again\n",
    "    2. We should be careful about the shape of the train and the test on split\n",
    "\n",
    "## Here I am going to use this method\n",
    "\n",
    "Add an indicator column while concatenating the two dataframes, so you can later seperate them again:\n",
    "\n",
    "df = pd.concat([test.assign(ind=\"test\"), train.assign(ind=\"train\")])\n",
    "Then later you can split them again:\n",
    "\n",
    "test, train = df[df[\"ind\"].eq(\"test\")], df[df[\"ind\"].eq(\"train\")]\n",
    "\n",
    "\n",
    "from this (Link)['https://datascience.stackexchange.com/questions/81617/how-to-combine-and-separate-test-and-train-data-for-data-cleaning']"
   ]
  },
  {
   "cell_type": "markdown",
   "id": "5a08e43d-47d7-4cf1-97e2-b15468b1f0fc",
   "metadata": {},
   "source": [
    "we are going to concatinate our train and test data"
   ]
  },
  {
   "cell_type": "code",
   "execution_count": null,
   "id": "4dfc731e-a161-462c-93a8-645f8257d423",
   "metadata": {},
   "outputs": [],
   "source": [
    "data = pd.concat([train.assign(ind=\"train\"), test.assign(ind=\"test\")]).reset_index(\n",
    "    drop=True\n",
    ")"
   ]
  },
  {
   "cell_type": "code",
   "execution_count": null,
   "id": "c57925fb-8c61-4849-8d57-8f9c489b935c",
   "metadata": {},
   "outputs": [],
   "source": [
    "test.shape, train.shape"
   ]
  },
  {
   "cell_type": "code",
   "execution_count": null,
   "id": "fccc7215-ed12-4959-8d0d-36a5bb5c5c29",
   "metadata": {},
   "outputs": [],
   "source": [
    "data.head()"
   ]
  },
  {
   "cell_type": "code",
   "execution_count": null,
   "id": "13989c39-fde8-4926-a079-2b8c5dab889e",
   "metadata": {},
   "outputs": [],
   "source": [
    "emp.head()"
   ]
  },
  {
   "cell_type": "code",
   "execution_count": null,
   "id": "64c6b586-a08a-45f9-a715-8b3734f136df",
   "metadata": {},
   "outputs": [],
   "source": [
    "custom.head()"
   ]
  },
  {
   "cell_type": "code",
   "execution_count": null,
   "id": "7aea6f40-8f10-40a1-8c3f-86f551692935",
   "metadata": {},
   "outputs": [],
   "source": [
    "custom.shape"
   ]
  },
  {
   "cell_type": "code",
   "execution_count": null,
   "id": "9f2e2f0d-f806-49be-a025-5d19d2ac5a94",
   "metadata": {},
   "outputs": [],
   "source": [
    "ss.head()"
   ]
  },
  {
   "cell_type": "markdown",
   "id": "9bcc3599-e43f-439c-b1dd-fcdeb1ba89a5",
   "metadata": {},
   "source": [
    "As they told as that account number is duplicated so we are going to drop it to see if we can get the product code, channel, and amt columns on our train test."
   ]
  },
  {
   "cell_type": "code",
   "execution_count": null,
   "id": "e32947a8-58a4-4322-a27a-65ed29a8d0d1",
   "metadata": {},
   "outputs": [],
   "source": [
    "transaction = transaction.drop_duplicates([\"ACCOUNT_NUMBER\"])\n",
    "transaction.shape"
   ]
  },
  {
   "cell_type": "code",
   "execution_count": null,
   "id": "f4fad3a7-9c5e-486e-800e-71ca40110eba",
   "metadata": {},
   "outputs": [],
   "source": [
    "transaction.shape"
   ]
  },
  {
   "cell_type": "code",
   "execution_count": null,
   "id": "6e25a604-1d10-4f89-a3aa-2d455ccbff5a",
   "metadata": {},
   "outputs": [],
   "source": [
    "transaction = transaction.iloc[:5144, :]\n",
    "transaction.shape"
   ]
  },
  {
   "cell_type": "code",
   "execution_count": null,
   "id": "18f680c4-3689-418f-9def-82c1043aa5b0",
   "metadata": {},
   "outputs": [],
   "source": [
    "transaction.head()"
   ]
  },
  {
   "cell_type": "code",
   "execution_count": null,
   "id": "f20ccb9b-9ee0-4711-8671-bd824e5ea5a4",
   "metadata": {},
   "outputs": [],
   "source": [
    "data = data.merge(custom, on=\"CUSTOMER_IDENTIFIER\")\n",
    "data.head()"
   ]
  },
  {
   "cell_type": "markdown",
   "id": "ff79a3fb-d163-4e84-bc2a-471eb411f43d",
   "metadata": {},
   "source": [
    "## We are going to fix the data type of the target variable it's categorical we are converting it into int type\n",
    "Here there is a problem we notice that there is **,** in our target variable I got help from this one: [Convert to Numerical](https://stackoverflow.com/questions/55557004/getting-attributeerror-float-object-has-no-attribute-replace-error-while)"
   ]
  },
  {
   "cell_type": "code",
   "execution_count": null,
   "id": "614fc1e4-a28c-4969-8a4f-b75e2adb50f6",
   "metadata": {},
   "outputs": [],
   "source": [
    "data[\"DECLARED_NET_INCOME\"] = data[\"DECLARED_NET_INCOME\"].astype(str)\n",
    "data[\"DECLARED_NET_INCOME\"] = [x.replace(\",\", \"\") for x in data[\"DECLARED_NET_INCOME\"]]"
   ]
  },
  {
   "cell_type": "code",
   "execution_count": null,
   "id": "ee742c5d-0e70-437f-8be3-99318753d3e5",
   "metadata": {},
   "outputs": [],
   "source": [
    "data[\"DECLARED_NET_INCOME\"] = data[\"DECLARED_NET_INCOME\"].astype(float)\n",
    "# data[\"DECLARED_NET_INCOME\"].apply(lambda x: str(x.replace(\",\", \"\").strip()))"
   ]
  },
  {
   "cell_type": "code",
   "execution_count": null,
   "id": "5553abbb-d13f-4af1-b330-d40a93ed2589",
   "metadata": {},
   "outputs": [],
   "source": [
    "data.shape, transaction.shape"
   ]
  },
  {
   "cell_type": "code",
   "execution_count": null,
   "id": "57d98129-6308-4d1e-8132-e9c51b7d0745",
   "metadata": {},
   "outputs": [],
   "source": [
    "data.dtypes"
   ]
  },
  {
   "cell_type": "code",
   "execution_count": null,
   "id": "f3226f42-bb73-469d-b2e1-5514009d55a9",
   "metadata": {},
   "outputs": [],
   "source": [
    "data[\"RECORD_DATE\"] = pd.to_datetime(data[\"RECORD_DATE\"])\n",
    "data[\"YEAR\"] = data[\"RECORD_DATE\"].dt.year\n",
    "data[\"MONTH\"] = data[\"RECORD_DATE\"].dt.month\n",
    "data[\"DAY\"] = data[\"RECORD_DATE\"].dt.day\n",
    "data.loc[:, \"WEEKOFYEAR\"] = data[\"RECORD_DATE\"].dt.weekofyear\n",
    "data.loc[:, \"DAYOFWEEK\"] = data[\"RECORD_DATE\"].dt.dayofweek\n",
    "data.loc[:, \"WEEKEND\"] = (data[\"RECORD_DATE\"].dt.weekday >= 5).astype(int)"
   ]
  },
  {
   "cell_type": "code",
   "execution_count": null,
   "id": "584f0eef-8952-4fd6-a673-4250b19ee74f",
   "metadata": {},
   "outputs": [],
   "source": [
    "# converting the target to numeric\n",
    "\n",
    "# data[\"DECLARED_NET_INCOME\"] = data[\"DECLARED_NET_INCOME\"].astype(float)"
   ]
  },
  {
   "cell_type": "markdown",
   "id": "d3f5cb95-5ece-4abf-b3cd-9676e52d5496",
   "metadata": {},
   "source": [
    "# More features Engineering techniques"
   ]
  },
  {
   "cell_type": "code",
   "execution_count": null,
   "id": "30fc7cf8-5854-46ba-b3fd-4c1e0715b0fa",
   "metadata": {},
   "outputs": [],
   "source": [
    "data.columns"
   ]
  },
  {
   "cell_type": "code",
   "execution_count": null,
   "id": "0839eb8a-16bb-4d27-ab7c-93cb78fe5509",
   "metadata": {},
   "outputs": [],
   "source": [
    "data[\"SEX_CODE_COUNT\"] = data[\"SEX_CODE\"].map(data[\"SEX_CODE\"].value_counts().to_dict())\n",
    "data[\"INCOME_GROUP_CODE_COUNT\"] = data[\"INCOME_GROUP_CODE\"].map(\n",
    "    data[\"INCOME_GROUP_CODE\"].value_counts().to_dict()\n",
    ")"
   ]
  },
  {
   "cell_type": "code",
   "execution_count": null,
   "id": "b00a2793-24d0-488c-8a86-0dd079d0c6cd",
   "metadata": {},
   "outputs": [],
   "source": [
    "data[\"MEAN_INCOME_GROUP_CODE_PER_MONTH\"] = data[\"MONTH\"].map(\n",
    "    data.groupby(\"MONTH\").mean()[\"INCOME_GROUP_CODE\"]\n",
    ")\n",
    "data[\"STD_INCOME_GROUP_CODE_PER_MONTH\"] = data[\"MONTH\"].map(\n",
    "    data.groupby(\"MONTH\").std()[\"INCOME_GROUP_CODE\"]\n",
    ")\n",
    "data[\"MAX_INCOME_GROUP_CODEr_PER_RIDER\"] = data[\"MONTH\"].map(\n",
    "    data.groupby(\"MONTH\").max()[\"INCOME_GROUP_CODE\"]\n",
    ")\n",
    "data[\"MIN_INCOME_GROUP_CODE_PER_MONTH\"] = data[\"MONTH\"].map(\n",
    "    data.groupby(\"MONTH\").min()[\"INCOME_GROUP_CODE\"]\n",
    ")"
   ]
  },
  {
   "cell_type": "code",
   "execution_count": null,
   "id": "254c5c24-984c-40c2-8ed7-2fc70de941d3",
   "metadata": {},
   "outputs": [],
   "source": [
    "data.head()"
   ]
  },
  {
   "cell_type": "code",
   "execution_count": null,
   "id": "63f7ddfa-9adc-452c-b9a6-c091549d59f1",
   "metadata": {},
   "outputs": [],
   "source": [
    "# data[\"MEAN_AGE_INCOME_GROUP_CODE\"] = data[\"INCOME_GROUP_CODE\"].map(\n",
    "#     data.groupby(\"INCOME_GROUP_CODE\").mean()[\"AGE\"]\n",
    "# )\n",
    "# data[\"STD_AGE_PER_INCOME_GROUP_CODE\"] = data[\"INCOME_GROUP_CODE\"].map(\n",
    "#     data.groupby(\"INCOME_GROUP_CODE\").std()[\"AGE\"]\n",
    "# )\n",
    "# data[\"MAX_AGE_PER_INCOME_GROUP_CODE\"] = data[\"INCOME_GROUP_CODE\"].map(\n",
    "#     data.groupby(\"INCOME_GROUP_CODE\").max()[\"AGE\"]\n",
    "# )\n",
    "# data[\"MIN_AGEY_PER_MONTh\"] = data[\"INCOME_GROUP_CODE\"].map(\n",
    "#     data.groupby(\"INCOME_GROUP_CODE\").min()[\"AGE\"]\n",
    "# )"
   ]
  },
  {
   "cell_type": "code",
   "execution_count": null,
   "id": "de604199-5452-44ba-8cf9-b8f8393bfe71",
   "metadata": {},
   "outputs": [],
   "source": [
    "# data[\"MEAN_INCOME_GROUP_CODE_PER_MONTH\"] = data[\"MONTH\"].map(\n",
    "#     data.groupby(\"MONTH\").mean()[\"INCOME_GROUP_CODE\"]\n",
    "# )\n",
    "# data[\"STD_INCOME_GROUP_CODE_PER_MONTH\"] = data[\"MONTH\"].map(\n",
    "#     data.groupby(\"MONTH\").std()[\"INCOME_GROUP_CODE\"]\n",
    "# )\n",
    "# data[\"MAX_INCOME_GROUP_CODE_PER_MONTH\"] = data[\"MONTH\"].map(\n",
    "#     data.groupby(\"MONTH\").max()[\"INCOME_GROUP_CODE\"]\n",
    "# )\n",
    "# data[\"MIN_INCOME_GROUP_CODE_PER_MONTH\"] = data[\"MONTH\"].map(\n",
    "#     data.groupby(\"MONTH\").min()[\"INCOME_GROUP_CODE\"]\n",
    "# )"
   ]
  },
  {
   "cell_type": "code",
   "execution_count": null,
   "id": "83e766ef-e226-43f5-9f36-d9e7d22eecc7",
   "metadata": {},
   "outputs": [],
   "source": []
  },
  {
   "cell_type": "code",
   "execution_count": null,
   "id": "e03073b9-c651-4709-b557-9287bfa4cf58",
   "metadata": {},
   "outputs": [],
   "source": [
    "data.tail()"
   ]
  },
  {
   "cell_type": "code",
   "execution_count": null,
   "id": "5fbda668-68b7-4f50-b406-84bd8ccf6cdb",
   "metadata": {},
   "outputs": [],
   "source": [
    "data.drop([\"RECORD_DATE\", \"DATE_LAST_UPDATED\"], axis=1, inplace=True)\n",
    "data.head()"
   ]
  },
  {
   "cell_type": "code",
   "execution_count": null,
   "id": "fa086812-51b0-4ee9-bb95-a42727b7d11c",
   "metadata": {},
   "outputs": [],
   "source": [
    "test, train = data[data[\"ind\"].eq(\"test\")], data[data[\"ind\"].eq(\"train\")]"
   ]
  },
  {
   "cell_type": "code",
   "execution_count": null,
   "id": "38b95623-2433-4c8c-a810-8b3705348352",
   "metadata": {},
   "outputs": [],
   "source": [
    "train.head()"
   ]
  },
  {
   "cell_type": "code",
   "execution_count": null,
   "id": "0d630c9a-03a2-4c8b-914c-1ec14483fa6a",
   "metadata": {},
   "outputs": [],
   "source": [
    "train.shape, test.shape"
   ]
  },
  {
   "cell_type": "code",
   "execution_count": null,
   "id": "8b31ee05-32ca-440a-be2e-4f8678cb2980",
   "metadata": {},
   "outputs": [],
   "source": [
    "ss.shape"
   ]
  },
  {
   "cell_type": "code",
   "execution_count": null,
   "id": "826736fd-7889-4891-a67b-d7db7797be95",
   "metadata": {},
   "outputs": [],
   "source": [
    "X = train.drop([\"CUSTOMER_IDENTIFIER\", \"ind\", \"DECLARED_NET_INCOME\"], axis=1)\n",
    "y = train[\"DECLARED_NET_INCOME\"]"
   ]
  },
  {
   "cell_type": "code",
   "execution_count": null,
   "id": "c7e51f33-9697-40af-829b-4a12ac75e2ec",
   "metadata": {},
   "outputs": [],
   "source": [
    "test = test.drop([\"CUSTOMER_IDENTIFIER\", \"ind\", \"DECLARED_NET_INCOME\"], axis=1)\n",
    "test.head()"
   ]
  },
  {
   "cell_type": "code",
   "execution_count": null,
   "id": "a6ac61de-d023-4a13-aae4-8d00f060f411",
   "metadata": {},
   "outputs": [],
   "source": [
    "X.shape"
   ]
  },
  {
   "cell_type": "code",
   "execution_count": null,
   "id": "5156165f-7a9e-4032-b6bf-17ee81ba405d",
   "metadata": {},
   "outputs": [],
   "source": [
    "test.head()"
   ]
  },
  {
   "cell_type": "code",
   "execution_count": null,
   "id": "0f77442e-8492-44af-97f7-81cb81bd1426",
   "metadata": {},
   "outputs": [],
   "source": [
    "X.dtypes"
   ]
  },
  {
   "cell_type": "code",
   "execution_count": null,
   "id": "e8e187de-5d00-4df7-ac6b-75d0cd1dc42b",
   "metadata": {},
   "outputs": [],
   "source": [
    "test.dtypes"
   ]
  },
  {
   "cell_type": "markdown",
   "id": "ec388ef7-a5c9-4c21-b1dd-4b0df0dff967",
   "metadata": {},
   "source": [
    "**Note** <br>\n",
    "With Poisson regression and learning rate of 0.01 and max-depth of 8 score is 6455.224621"
   ]
  },
  {
   "cell_type": "code",
   "execution_count": null,
   "id": "be46004c-d38f-4f7a-8d2c-15fbdd65c0b1",
   "metadata": {},
   "outputs": [],
   "source": [
    "params = {\n",
    "    \"objective\": \"tweedie\",\n",
    "    \"metric\": \"rmse\",\n",
    "    \"learning_rate\": 0.03,\n",
    "    \"sub_feature\": 0.8,\n",
    "    \"sub_row\": 0.75,\n",
    "    \"bagging_freq\": 1,\n",
    "    \"lambda_l2\": 0.7,\n",
    "    \"verbosity\": 100,\n",
    "    \"num_iteration\": 10400,\n",
    "    \"num_leaves\": 128,\n",
    "    \"min_data_in_leaf\": 50,\n",
    "    \"max_depth\": 11,\n",
    "    \"seed\":42,\n",
    "    \n",
    "}"
   ]
  },
  {
   "cell_type": "code",
   "execution_count": null,
   "id": "602c704f-362c-424b-9268-72c8ec4b2958",
   "metadata": {
    "tags": []
   },
   "outputs": [],
   "source": [
    "%%time\n",
    "errcb = []\n",
    "y_pred_totcb = []\n",
    "fold = RepeatedKFold(n_splits=5)\n",
    "i = 1\n",
    "for train_index, test_index in fold.split(X):\n",
    "    X_train, X_test = X.iloc[train_index], X.iloc[test_index]\n",
    "    y_train, y_test = y[train_index], y[test_index]\n",
    "    m = LGBMRegressor(**params)\n",
    "    # m = CatBoostRegressor()\n",
    "    # m = XGBRegressor()\n",
    "    m.fit(\n",
    "        X_train,\n",
    "        y_train,\n",
    "        eval_set=[(X_train, y_train), (X_test, y_test)],\n",
    "        verbose=100,\n",
    "        early_stopping_rounds=200,\n",
    "    )\n",
    "    preds = m.predict(X_test)\n",
    "    print(\"err: \", metrics.mean_squared_error(y_test, preds, squared=False))\n",
    "    errcb.append(metrics.mean_squared_error(y_test, preds, squared=False))\n",
    "    p = m.predict(test)\n",
    "    y_pred_totcb.append(p)"
   ]
  },
  {
   "cell_type": "code",
   "execution_count": null,
   "id": "4dcaffff-9fa0-4993-957f-c30f632dd454",
   "metadata": {},
   "outputs": [],
   "source": [
    "print(\"The error of the model is: \", np.mean(errcb))"
   ]
  },
  {
   "cell_type": "code",
   "execution_count": null,
   "id": "a74b547a-ac4f-43de-8c2d-c2c6aecaccbc",
   "metadata": {},
   "outputs": [],
   "source": [
    "fea_imp = pd.DataFrame({\"imp\": m.feature_importances_, \"col\": X.columns})\n",
    "fea_imp = fea_imp.sort_values([\"imp\", \"col\"], ascending=False).iloc[-30:]\n",
    "_ = fea_imp.plot(kind=\"barh\", x=\"col\", y=\"imp\", figsize=(20, 10))\n",
    "plt.savefig(\"catboost_feature_importance.png\")"
   ]
  },
  {
   "cell_type": "code",
   "execution_count": null,
   "id": "c2bb3aa0-e075-4b18-800b-7c4a1ff769dd",
   "metadata": {},
   "outputs": [],
   "source": [
    "np.mean(y_pred_totcb, 0)"
   ]
  },
  {
   "cell_type": "code",
   "execution_count": null,
   "id": "85a18e58-9f9d-4cfb-9e55-449598c1e9d0",
   "metadata": {},
   "outputs": [],
   "source": [
    "len(np.mean(y_pred_totcb, 0))"
   ]
  },
  {
   "cell_type": "code",
   "execution_count": null,
   "id": "c48b9caf-8ae2-4ab3-8059-01012c8b936b",
   "metadata": {},
   "outputs": [],
   "source": [
    "test[\"DECLARED_NET_INCOME\"] = np.mean(y_pred_totcb, 0)"
   ]
  },
  {
   "cell_type": "code",
   "execution_count": null,
   "id": "ea8f6030-a5de-412f-9143-ec09fc75f33f",
   "metadata": {},
   "outputs": [],
   "source": [
    "ss.head()"
   ]
  },
  {
   "cell_type": "code",
   "execution_count": null,
   "id": "f1e19e15-083b-4d06-aa0d-b2c6291bab06",
   "metadata": {},
   "outputs": [],
   "source": [
    "ss[\"DECLARED_NET_INCOME\"] = np.mean(y_pred_totcb, 0)\n",
    "ss.head()"
   ]
  },
  {
   "cell_type": "markdown",
   "id": "0c30dc4c-a2ab-4572-9df8-e72e9e75a94c",
   "metadata": {},
   "source": [
    "### transforming the prediction\n"
   ]
  },
  {
   "cell_type": "code",
   "execution_count": null,
   "id": "12e0c775-6055-474d-81a0-dee1ca78ed64",
   "metadata": {},
   "outputs": [],
   "source": [
    "# ss[\"DECLARED_NET_INCOME\"] = np.log1p(abs(ss[\"DECLARED_NET_INCOME\"]))"
   ]
  },
  {
   "cell_type": "code",
   "execution_count": null,
   "id": "4767a787-d09c-4b69-b271-caf7c9cae489",
   "metadata": {},
   "outputs": [],
   "source": [
    "ss.head()"
   ]
  },
  {
   "cell_type": "code",
   "execution_count": null,
   "id": "794bfe73-6e1b-43b6-b0da-f0b92ada1eaf",
   "metadata": {},
   "outputs": [],
   "source": [
    "ss.to_csv(\"base_lgb.csv\", index=False)"
   ]
  },
  {
   "cell_type": "code",
   "execution_count": null,
   "id": "34a21905-09db-4352-b4c8-ce7f0456a23a",
   "metadata": {},
   "outputs": [],
   "source": [
    "kjlk"
   ]
  },
  {
   "cell_type": "markdown",
   "id": "5160baa3-140e-4a69-b64d-31de82a5ddf4",
   "metadata": {},
   "source": [
    "# Using Catboost"
   ]
  },
  {
   "cell_type": "code",
   "execution_count": null,
   "id": "404d51f9-0c7e-45ac-8cfc-b093f2e87984",
   "metadata": {},
   "outputs": [],
   "source": [
    "from sklearn.model_selection import train_test_split\n",
    "import optuna\n",
    "\n",
    "\n",
    "def objective(trial, data=X, target=y):\n",
    "\n",
    "    train_x, test_x, train_y, test_y = train_test_split(\n",
    "        data, target, test_size=0.2, random_state=42\n",
    "    )\n",
    "    param = {\n",
    "        \"metric\": \"rmse\",\n",
    "        \"random_state\": 48,\n",
    "        \"n_estimators\": 20000,\n",
    "        \"reg_alpha\": trial.suggest_loguniform(\"reg_alpha\", 1e-3, 10.0),\n",
    "        \"reg_lambda\": trial.suggest_loguniform(\"reg_lambda\", 1e-3, 10.0),\n",
    "        \"colsample_bytree\": trial.suggest_categorical(\n",
    "            \"colsample_bytree\", [0.3, 0.4, 0.5, 0.6, 0.7, 0.8, 0.9, 1.0]\n",
    "        ),\n",
    "        \"subsample\": trial.suggest_categorical(\n",
    "            \"subsample\", [0.4, 0.5, 0.6, 0.7, 0.8, 1.0]\n",
    "        ),\n",
    "        \"learning_rate\": trial.suggest_categorical(\n",
    "            \"learning_rate\", [0.006, 0.008, 0.01, 0.014, 0.017, 0.02]\n",
    "        ),\n",
    "        \"max_depth\": trial.suggest_categorical(\"max_depth\", [10, 20, 100]),\n",
    "        \"num_leaves\": trial.suggest_int(\"num_leaves\", 1, 1000),\n",
    "        \"min_child_samples\": trial.suggest_int(\"min_child_samples\", 1, 300),\n",
    "        \"cat_smooth\": trial.suggest_int(\"min_data_per_groups\", 1, 100),\n",
    "    }\n",
    "    model = LGBMRegressor(**param)\n",
    "\n",
    "    model.fit(\n",
    "        train_x,\n",
    "        train_y,\n",
    "        eval_set=[(test_x, test_y)],\n",
    "        early_stopping_rounds=100,\n",
    "        verbose=False,\n",
    "    )\n",
    "\n",
    "    preds = model.predict(test_x)\n",
    "\n",
    "    rmse = mean_squared_error(test_y, preds, squared=False)\n",
    "\n",
    "    return rmse"
   ]
  },
  {
   "cell_type": "code",
   "execution_count": null,
   "id": "da40e4e7-5b29-4bde-b689-6e86152fe00d",
   "metadata": {},
   "outputs": [],
   "source": [
    "\n",
    "\n",
    "study = optuna.create_study(direction='minimize')\n",
    "study.optimize(objective, n_trials=50)\n",
    "print('Number of finished trials:', len(study.trials))\n",
    "print('Best trial:', study.best_trial.params)\n",
    "\n"
   ]
  },
  {
   "cell_type": "code",
   "execution_count": null,
   "id": "ef6b3d47-87ef-44a1-b65c-0cfbba50b5a1",
   "metadata": {},
   "outputs": [],
   "source": []
  },
  {
   "cell_type": "code",
   "execution_count": null,
   "id": "3126704e-2467-40e3-b7ef-c1176ff635e7",
   "metadata": {},
   "outputs": [],
   "source": []
  },
  {
   "cell_type": "code",
   "execution_count": null,
   "id": "aa83bfb8-db0d-4407-96d5-d13551d0751d",
   "metadata": {},
   "outputs": [],
   "source": []
  },
  {
   "cell_type": "code",
   "execution_count": null,
   "id": "fc551b6b-7ed4-44e6-b1db-2e7d3ed56a13",
   "metadata": {
    "tags": []
   },
   "outputs": [],
   "source": [
    "errcb2 = []\n",
    "y_pred_totcb2 = []\n",
    "from catboost import CatBoostRegressor\n",
    "from sklearn.metrics import mean_squared_error\n",
    "from sklearn.model_selection import KFold, StratifiedKFold, TimeSeriesSplit\n",
    "\n",
    "fold = KFold(n_splits=10, random_state=1234, shuffle=True)\n",
    "i = 1\n",
    "for train_index, test_index in fold.split(X, y):\n",
    "    X_train, X_test = X.iloc[train_index], X.iloc[test_index]\n",
    "    y_train, y_test = y.iloc[train_index], y.iloc[test_index]\n",
    "    m2 = CatBoostRegressor(\n",
    "        iterations=1000,\n",
    "        logging_level=\"Silent\",\n",
    "        od_wait=50,\n",
    "        od_type=\"Iter\",\n",
    "        learning_rate=0.1,\n",
    "        depth=8,\n",
    "        eval_metric=\"RMSE\",\n",
    "    )\n",
    "    m2.fit(\n",
    "        X_train,\n",
    "        y_train,\n",
    "        eval_set=[(X_train, y_train), (X_test, y_test)],\n",
    "        early_stopping_rounds=100,\n",
    "        verbose=100,\n",
    "    )\n",
    "    preds = m2.predict(X_test)\n",
    "    print(\"err: \", np.sqrt(mean_squared_error(y_test, preds)))\n",
    "    errcb2.append(np.sqrt(mean_squared_error(y_test, preds)))\n",
    "    p2 = m2.predict(test)\n",
    "    y_pred_totcb2.append(p2)"
   ]
  },
  {
   "cell_type": "code",
   "execution_count": null,
   "id": "dcad4a44-8c17-4932-a06d-d0eff91121aa",
   "metadata": {},
   "outputs": [],
   "source": [
    "p2"
   ]
  },
  {
   "cell_type": "code",
   "execution_count": null,
   "id": "c9dea54f-7fd5-48c2-aaf8-5aecc1b5582c",
   "metadata": {},
   "outputs": [],
   "source": [
    "sb = pd.read_csv(\"SampleSubmission.csv\")\n",
    "sb.head()"
   ]
  },
  {
   "cell_type": "code",
   "execution_count": null,
   "id": "a865ee77-c3db-42ea-a9ef-6d9661b281cb",
   "metadata": {},
   "outputs": [],
   "source": [
    "sb[\"DECLARED_NET_INCOME\"] = p2\n",
    "sb.head()"
   ]
  },
  {
   "cell_type": "code",
   "execution_count": null,
   "id": "dc1ae1a7-1a41-42a7-a0f7-f7012c491653",
   "metadata": {},
   "outputs": [],
   "source": [
    "sb.to_csv(\"Catboost.csv\", index=False)"
   ]
  },
  {
   "cell_type": "code",
   "execution_count": null,
   "id": "bd1cb0bf-9c4f-48b2-84f9-fce687d7996b",
   "metadata": {},
   "outputs": [],
   "source": [
    "fea_imp = pd.DataFrame({\"imp\": m2.feature_importances_, \"col\": X.columns})\n",
    "fea_imp = fea_imp.sort_values([\"imp\", \"col\"], ascending=False).iloc[-30:]\n",
    "_ = fea_imp.plot(kind=\"barh\", x=\"col\", y=\"imp\", figsize=(20, 10))\n",
    "plt.savefig(\"catboost_feature_importance.png\")"
   ]
  },
  {
   "cell_type": "code",
   "execution_count": null,
   "id": "d3257f6f-5c23-4f51-85f3-d566e88c8279",
   "metadata": {},
   "outputs": [],
   "source": []
  }
 ],
 "metadata": {
  "kernelspec": {
   "display_name": "Python 3",
   "language": "python",
   "name": "python3"
  },
  "language_info": {
   "codemirror_mode": {
    "name": "ipython",
    "version": 3
   },
   "file_extension": ".py",
   "mimetype": "text/x-python",
   "name": "python",
   "nbconvert_exporter": "python",
   "pygments_lexer": "ipython3",
   "version": "3.9.12"
  }
 },
 "nbformat": 4,
 "nbformat_minor": 5
}
